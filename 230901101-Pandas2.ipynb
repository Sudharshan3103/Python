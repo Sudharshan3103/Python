{
 "cells": [
  {
   "cell_type": "code",
   "execution_count": 9,
   "id": "98be1133-1181-4876-a673-f64be683a4be",
   "metadata": {},
   "outputs": [
    {
     "name": "stdout",
     "output_type": "stream",
     "text": [
      "DataFrame.apply function:\n",
      "\n",
      "\n",
      "Original DataFrame:\n",
      "           S    R\n",
      "0  1.732051  3.0\n",
      "1  1.732051  3.0\n",
      "2  1.732051  3.0\n",
      "3  1.732051  3.0\n",
      "\n",
      "Sum of each column:\n",
      " S    12\n",
      "R    36\n",
      "dtype: int64\n",
      "\n",
      "Sum of each row:\n",
      " 0    12\n",
      "1    12\n",
      "2    12\n",
      "3    12\n",
      "dtype: int64\n"
     ]
    }
   ],
   "source": [
    "import pandas as pd\n",
    "import numpy as np\n",
    "print(\"DataFrame.apply function:\\n\")\n",
    "info = pd.DataFrame(np.array(([3, 9]) * 4).reshape(4, 2), columns=['S', 'R'])\n",
    "print(\"\\nOriginal DataFrame:\\n\",info.apply(np.sqrt))\n",
    "print(\"\\nSum of each column:\\n\",info.apply(np.sum,axis=0))\n",
    "print(\"\\nSum of each row:\\n\",info.apply(np.sum,axis=1))"
   ]
  },
  {
   "cell_type": "code",
   "execution_count": 11,
   "id": "90026b59-724a-4563-a222-b5ff84a2544e",
   "metadata": {},
   "outputs": [
    {
     "name": "stdout",
     "output_type": "stream",
     "text": [
      "\n",
      "Original DataFrame:\n",
      "    x  y  z\n",
      "1  2  4  6\n",
      "3  1  3  5\n",
      "5  5  8  7\n",
      "\n",
      "Minimum and maximum of each column:\n",
      "\n",
      "     x  y  z\n",
      "min  1  3  5\n",
      "max  5  8  7\n"
     ]
    }
   ],
   "source": [
    "info = pd.DataFrame(data=[[2, 4, 6], [1, 3, 5], [5, 8, 7]],index=[1, 3, 5],columns=['x', 'y', 'z'])\n",
    "print(\"\\nOriginal DataFrame:\\n\", info)\n",
    "print(\"\\nMinimum and maximum of each column:\\n\")\n",
    "print(info.agg(['min', 'max']))"
   ]
  },
  {
   "cell_type": "code",
   "execution_count": 13,
   "id": "655f9089-0b40-4ec5-94e5-7acb3c578c6a",
   "metadata": {},
   "outputs": [
    {
     "name": "stdout",
     "output_type": "stream",
     "text": [
      "\n",
      "DataFrame.Assign function:\n",
      "\n",
      "\n",
      "Original DataFrame:\n",
      "       EMP  ID\n",
      "0  Sudeep  88\n",
      "1  Vinith  70\n",
      "\n",
      "Adding new columns:\n",
      "       EMP  ID  Age\n",
      "0  Sudeep  88   20\n",
      "1  Vinith  70   18\n",
      "\n",
      " Adding new columns:\n",
      "       EMP  ID  Age   sex\n",
      "0  Sudeep  88   20  Male\n",
      "1  Vinith  70   18  Male\n"
     ]
    }
   ],
   "source": [
    "print(\"\\nDataFrame.Assign function:\\n\")\n",
    "d2=pd.DataFrame([['Sudeep',88],['Vinith',70]],columns=(['EMP','ID']))\n",
    "print(\"\\nOriginal DataFrame:\\n\",d2)\n",
    "d2['Age']=[20,18]\n",
    "print(\"\\nAdding new columns:\\n\",d2)\n",
    "d=d2.assign(sex=['Male','Male'])\n",
    "print(\"\\n Adding new columns:\\n\",d)"
   ]
  },
  {
   "cell_type": "code",
   "execution_count": 15,
   "id": "a6b49f2f-67ef-4608-95ac-eec64ae3c57b",
   "metadata": {},
   "outputs": [
    {
     "name": "stdout",
     "output_type": "stream",
     "text": [
      "\n",
      "DataFrame.sortFunction:\n",
      "\n",
      "          A         B\n",
      "3  1.021131 -0.513529\n",
      "2 -0.683735 -0.007821\n",
      "0 -0.378883  0.622390\n",
      "4  1.008087  0.098868\n",
      "1  0.384549  0.440441\n",
      "\n",
      "Sort index:\n",
      "           A         B\n",
      "0 -0.378883  0.622390\n",
      "1  0.384549  0.440441\n",
      "2 -0.683735 -0.007821\n",
      "3  1.021131 -0.513529\n",
      "4  1.008087  0.098868\n",
      "\n",
      "Sort values:\n",
      "           A         B\n",
      "2 -0.683735 -0.007821\n",
      "0 -0.378883  0.622390\n",
      "1  0.384549  0.440441\n",
      "4  1.008087  0.098868\n",
      "3  1.021131 -0.513529\n"
     ]
    }
   ],
   "source": [
    "import pandas as pd\n",
    "import numpy as np\n",
    "print(\"\\nDataFrame.sortFunction:\\n\")\n",
    "info=pd.DataFrame(np.random.randn(5,2),index=[3,2,0,4,1],columns=['A','B'])\n",
    "print(info)\n",
    "info2=info.sort_index()\n",
    "print(\"\\nSort index:\\n\",info2)\n",
    "info3=info.sort_values(by='A')\n",
    "print(\"\\nSort values:\\n\",info3)"
   ]
  },
  {
   "cell_type": "code",
   "execution_count": 19,
   "id": "19970b43-d23d-4bd0-aff6-e4684b6eadbc",
   "metadata": {},
   "outputs": [
    {
     "name": "stdout",
     "output_type": "stream",
     "text": [
      "DataFrame merge function:\n",
      "\n",
      "   id  Name   Sub\n",
      "0   1   Sai  sub1\n",
      "1   2  Ravi  sub2\n",
      "2   3  Pavi  sub4\n",
      "3   4  Yash  sub3\n",
      "   id    Name   Sub\n",
      "0   1  Sanjay  sub1\n",
      "1   2    Ravi  sub4\n",
      "2   3  Selvan  sub3\n",
      "3   4    Raju  sub2\n",
      "   id Name_x Sub_x  Name_y Sub_y\n",
      "0   1    Sai  sub1  Sanjay  sub1\n",
      "1   2   Ravi  sub2    Ravi  sub4\n",
      "2   3   Pavi  sub4  Selvan  sub3\n",
      "3   4   Yash  sub3    Raju  sub2\n"
     ]
    }
   ],
   "source": [
    "print(\"DataFrame merge function:\\n\")\n",
    "left=pd.DataFrame({'id':[1,2,3,4],'Name':['Sai','Ravi','Pavi','Yash'],'Sub':['sub1','sub2','sub4','sub3']})\n",
    "right=pd.DataFrame({'id':[1,2,3,4],'Name':['Sanjay','Ravi','Selvan','Raju'],'Sub':['sub1','sub4','sub3','sub2']})\n",
    "print(left)\n",
    "print(right)\n",
    "print(pd.merge(left,right,on='id'))"
   ]
  }
 ],
 "metadata": {
  "kernelspec": {
   "display_name": "Python [conda env:base] *",
   "language": "python",
   "name": "conda-base-py"
  },
  "language_info": {
   "codemirror_mode": {
    "name": "ipython",
    "version": 3
   },
   "file_extension": ".py",
   "mimetype": "text/x-python",
   "name": "python",
   "nbconvert_exporter": "python",
   "pygments_lexer": "ipython3",
   "version": "3.12.7"
  }
 },
 "nbformat": 4,
 "nbformat_minor": 5
}
