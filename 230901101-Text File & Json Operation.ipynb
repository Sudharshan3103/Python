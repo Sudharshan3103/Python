{
 "cells": [
  {
   "cell_type": "code",
   "execution_count": 1,
   "id": "eb8254ae-e343-4f5f-a780-0353a4c58ffd",
   "metadata": {},
   "outputs": [],
   "source": [
    "f=open(r\"C:\\Users\\Dell\\Downloads\\data.txt\",\"w\")\n",
    "f.write(\"Sai\\n\")\n",
    "f.write(\"Raj\\n\")\n",
    "f.write(\"John\\n\")\n",
    "f.close()"
   ]
  },
  {
   "cell_type": "code",
   "execution_count": 5,
   "id": "e1f32bd0-1318-4dc4-a753-91193f515437",
   "metadata": {},
   "outputs": [
    {
     "name": "stdout",
     "output_type": "stream",
     "text": [
      "Sai\n",
      "\n",
      "Raj\n",
      "\n",
      "John\n",
      "\n"
     ]
    }
   ],
   "source": [
    "a=open(r\"C:\\Users\\Dell\\Downloads\\data.txt\",\"r\")\n",
    "print(a.readline())\n",
    "print(a.readline())\n",
    "print(a.readline())\n",
    "a.close()"
   ]
  },
  {
   "cell_type": "code",
   "execution_count": 7,
   "id": "4112bd5e-db1e-479b-9cc0-f8ec6073cfb6",
   "metadata": {},
   "outputs": [],
   "source": [
    "b=open(r\"C:\\Users\\Dell\\Downloads\\data.txt\",\"a\")\n",
    "b.write(\"Ram\\n\")\n",
    "b.write(\"Kumar\\n\")\n",
    "b.close()"
   ]
  },
  {
   "cell_type": "code",
   "execution_count": 9,
   "id": "242710a6-b75a-4998-b6af-09550c8305df",
   "metadata": {},
   "outputs": [
    {
     "name": "stdout",
     "output_type": "stream",
     "text": [
      "Sai\n",
      "Raj\n",
      "John\n",
      "Ram\n",
      "Kumar\n",
      "\n"
     ]
    }
   ],
   "source": [
    "c=open(r\"C:\\Users\\Dell\\Downloads\\data.txt\",\"r\")\n",
    "print(c.read())\n",
    "c.close()"
   ]
  },
  {
   "cell_type": "code",
   "execution_count": 11,
   "id": "16ffea53-7ff4-4945-a634-665c8dc0e618",
   "metadata": {},
   "outputs": [
    {
     "name": "stdout",
     "output_type": "stream",
     "text": [
      "['Sai\\n', 'Raj\\n', 'John\\n', 'Ram\\n', 'Kumar\\n']\n"
     ]
    }
   ],
   "source": [
    "with open(r\"C:\\Users\\Dell\\Downloads\\data.txt\",\"r\") as file:\n",
    "    lines=file.readlines()\n",
    "    print(lines)"
   ]
  },
  {
   "cell_type": "code",
   "execution_count": 15,
   "id": "7ee4c27f-b80d-463a-bcc5-049fbd1f5f0f",
   "metadata": {},
   "outputs": [
    {
     "name": "stdout",
     "output_type": "stream",
     "text": [
      "London\n"
     ]
    }
   ],
   "source": [
    "import json\n",
    "x = {\"Name\": \"Raj\", \"Age\": 20, \"City\": \"London\"}\n",
    "json_string = json.dumps(x)\n",
    "y = json.loads(json_string)\n",
    "print(y[\"City\"])"
   ]
  },
  {
   "cell_type": "code",
   "execution_count": 17,
   "id": "8828d23e-d1d1-47f1-a395-5f1ddcadb6c8",
   "metadata": {},
   "outputs": [
    {
     "name": "stdout",
     "output_type": "stream",
     "text": [
      "{\"Name\": \"Raj\", \"Age\": 20, \"City\": \"London\"}\n"
     ]
    }
   ],
   "source": [
    "x={\"Name\":\"Raj\",\"Age\":20,\"City\":\"London\"}\n",
    "y=json.dumps(x)\n",
    "print(y)"
   ]
  }
 ],
 "metadata": {
  "kernelspec": {
   "display_name": "Python [conda env:base] *",
   "language": "python",
   "name": "conda-base-py"
  },
  "language_info": {
   "codemirror_mode": {
    "name": "ipython",
    "version": 3
   },
   "file_extension": ".py",
   "mimetype": "text/x-python",
   "name": "python",
   "nbconvert_exporter": "python",
   "pygments_lexer": "ipython3",
   "version": "3.12.7"
  }
 },
 "nbformat": 4,
 "nbformat_minor": 5
}
