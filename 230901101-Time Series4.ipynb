{
 "cells": [
  {
   "cell_type": "code",
   "execution_count": 1,
   "id": "c0387768",
   "metadata": {},
   "outputs": [
    {
     "name": "stdout",
     "output_type": "stream",
     "text": [
      "Date range:\n",
      " DatetimeIndex(['2020-08-15', '2020-08-16', '2020-08-17', '2020-08-18',\n",
      "               '2020-08-19', '2020-08-20', '2020-08-21', '2020-08-22',\n",
      "               '2020-08-23', '2020-08-24', '2020-08-25', '2020-08-26',\n",
      "               '2020-08-27', '2020-08-28', '2020-08-29', '2020-08-30',\n",
      "               '2020-08-31', '2020-09-01'],\n",
      "              dtype='datetime64[ns]', freq='D')\n"
     ]
    }
   ],
   "source": [
    "import pandas as pd\n",
    "import numpy as np\n",
    "from datetime import datetime\n",
    "ran=pd.date_range(\"2020-08-15\",\"2020-09-01\")\n",
    "print(\"Date range:\\n\",ran)"
   ]
  },
  {
   "cell_type": "code",
   "execution_count": 2,
   "id": "331823c9",
   "metadata": {},
   "outputs": [
    {
     "name": "stdout",
     "output_type": "stream",
     "text": [
      "\n",
      "Date range with periods and default day frequency:\n",
      " DatetimeIndex(['2020-07-15', '2020-07-16', '2020-07-17', '2020-07-18',\n",
      "               '2020-07-19', '2020-07-20', '2020-07-21', '2020-07-22',\n",
      "               '2020-07-23', '2020-07-24'],\n",
      "              dtype='datetime64[ns]', freq='D')\n"
     ]
    }
   ],
   "source": [
    "ran=pd.date_range(\"2020-07-15\", periods=10)\n",
    "print(\"\\nDate range with periods and default day frequency:\\n\",ran)"
   ]
  },
  {
   "cell_type": "code",
   "execution_count": 4,
   "id": "f3617cf8",
   "metadata": {},
   "outputs": [
    {
     "ename": "SyntaxError",
     "evalue": "invalid decimal literal (19897547.py, line 3)",
     "output_type": "error",
     "traceback": [
      "\u001b[1;36m  Cell \u001b[1;32mIn[4], line 3\u001b[1;36m\u001b[0m\n\u001b[1;33m    <ipython-input-5-5758df9c1bab>:1: FutureWarning: H is deprecated and will be removed in a\u001b[0m\n\u001b[1;37m                        ^\u001b[0m\n\u001b[1;31mSyntaxError\u001b[0m\u001b[1;31m:\u001b[0m invalid decimal literal\n"
     ]
    }
   ],
   "source": []
  },
  {
   "cell_type": "code",
   "execution_count": 6,
   "id": "c40f8c00",
   "metadata": {},
   "outputs": [
    {
     "ename": "SyntaxError",
     "evalue": "unterminated string literal (detected at line 3) (3442599746.py, line 3)",
     "output_type": "error",
     "traceback": [
      "\u001b[1;36m  Cell \u001b[1;32mIn[6], line 3\u001b[1;36m\u001b[0m\n\u001b[1;33m    ipython-input-8-e528f2e6b9e5\":1: FutureWarning: H; is deprecated and will be removed in a\u001b[0m\n\u001b[1;37m                                ^\u001b[0m\n\u001b[1;31mSyntaxError\u001b[0m\u001b[1;31m:\u001b[0m unterminated string literal (detected at line 3)\n"
     ]
    }
   ],
   "source": [
    "ran=pd.timedelta_range(0, periods=8, freq=\"H\")\n",
    "print(\"\\nZero day with hour frequency periods:\\n\",ran)\n",
    "ipython-input-8-e528f2e6b9e5\":1: FutureWarning: H; is deprecated and will be removed in a\n",
    "future version, please use h instead.\n",
    "ran=pd.timedelta_range(0, periods=8, freq=\"H\")"
   ]
  },
  {
   "cell_type": "code",
   "execution_count": null,
   "id": "c708ef6e",
   "metadata": {},
   "outputs": [],
   "source": []
  },
  {
   "cell_type": "code",
   "execution_count": null,
   "id": "64e639ef",
   "metadata": {},
   "outputs": [],
   "source": []
  }
 ],
 "metadata": {
  "kernelspec": {
   "display_name": "Python 3 (ipykernel)",
   "language": "python",
   "name": "python3"
  },
  "language_info": {
   "codemirror_mode": {
    "name": "ipython",
    "version": 3
   },
   "file_extension": ".py",
   "mimetype": "text/x-python",
   "name": "python",
   "nbconvert_exporter": "python",
   "pygments_lexer": "ipython3",
   "version": "3.11.3"
  }
 },
 "nbformat": 4,
 "nbformat_minor": 5
}
