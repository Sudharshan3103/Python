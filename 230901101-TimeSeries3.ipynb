{
 "cells": [
  {
   "cell_type": "code",
   "execution_count": 1,
   "id": "fbd0ba07-56b9-4e30-a994-503f771b0e9c",
   "metadata": {},
   "outputs": [
    {
     "name": "stdout",
     "output_type": "stream",
     "text": [
      "Date Index \n",
      " 2011-01-02   -0.962824\n",
      "2011-01-05   -2.106582\n",
      "2011-01-07    1.679872\n",
      "2011-01-08   -0.095863\n",
      "2011-01-10   -0.359200\n",
      "2011-01-12    0.395757\n",
      "dtype: float64\n"
     ]
    }
   ],
   "source": [
    "import pandas as pd\n",
    "import numpy as np\n",
    "from datetime import datetime\n",
    "dates = [datetime(2011, 1, 2),\n",
    "datetime(2011, 1, 5),\n",
    "datetime(2011, 1, 7),\n",
    "datetime(2011, 1, 8),\n",
    "datetime(2011, 1, 10),\n",
    "datetime(2011, 1, 12)]\n",
    "ts = pd.Series(np.random.randn(6), index=dates)\n",
    "print(\"Date Index \\n\",ts)"
   ]
  },
  {
   "cell_type": "code",
   "execution_count": 3,
   "id": "9ba13bf7-85f4-43e2-8d6e-cd3a7ce22ffa",
   "metadata": {},
   "outputs": [
    {
     "name": "stdout",
     "output_type": "stream",
     "text": [
      "\n",
      "Date Index alone from the series: \n",
      " DatetimeIndex(['2011-01-02', '2011-01-05', '2011-01-07', '2011-01-08',\n",
      "               '2011-01-10', '2011-01-12'],\n",
      "              dtype='datetime64[ns]', freq=None)\n"
     ]
    }
   ],
   "source": [
    "print(\"\\nDate Index alone from the series: \\n\",ts.index)"
   ]
  },
  {
   "cell_type": "code",
   "execution_count": 5,
   "id": "26915e18-8bd9-4008-9fdd-24703dabee76",
   "metadata": {},
   "outputs": [
    {
     "name": "stdout",
     "output_type": "stream",
     "text": [
      "\n",
      "Second index:\n",
      " 2011-01-07 00:00:00\n"
     ]
    }
   ],
   "source": [
    "stamp=ts.index[2]\n",
    "print(\"\\nSecond index:\\n\", stamp)"
   ]
  },
  {
   "cell_type": "code",
   "execution_count": 7,
   "id": "2fad3387-1048-47c8-8b29-5b9bc518ecc6",
   "metadata": {},
   "outputs": [
    {
     "name": "stdout",
     "output_type": "stream",
     "text": [
      "\n",
      "Daterange up to 1000 days:\n",
      " 2000-01-01   -1.163714\n",
      "2000-01-02   -1.755948\n",
      "2000-01-03   -0.142907\n",
      "2000-01-04    1.277277\n",
      "2000-01-05    0.163675\n",
      "                ...   \n",
      "2002-09-22   -0.127145\n",
      "2002-09-23   -1.908696\n",
      "2002-09-24   -0.423721\n",
      "2002-09-25    2.285054\n",
      "2002-09-26    0.423214\n",
      "Freq: D, Length: 1000, dtype: float64\n"
     ]
    }
   ],
   "source": [
    "longer_ts=pd.Series(np.random.randn(1000),\n",
    "index=pd.date_range(\"2000-01-01\",periods=1000))\n",
    "print(\"\\nDaterange up to 1000 days:\\n\",longer_ts)"
   ]
  },
  {
   "cell_type": "code",
   "execution_count": 9,
   "id": "79bac44e-54db-4f90-948a-77e6cda26769",
   "metadata": {},
   "outputs": [
    {
     "name": "stdout",
     "output_type": "stream",
     "text": [
      "\n",
      "Date range-2001 year:\n",
      " 2001-01-01    1.154580\n",
      "2001-01-02   -0.359140\n",
      "2001-01-03    1.135132\n",
      "2001-01-04    0.273948\n",
      "2001-01-05   -0.358227\n",
      "                ...   \n",
      "2001-12-27   -0.000986\n",
      "2001-12-28   -0.693782\n",
      "2001-12-29   -2.317525\n",
      "2001-12-30    0.751920\n",
      "2001-12-31    0.639564\n",
      "Freq: D, Length: 365, dtype: float64\n"
     ]
    }
   ],
   "source": [
    "print(\"\\nDate range-2001 year:\\n\", longer_ts[\"2001\"])"
   ]
  },
  {
   "cell_type": "code",
   "execution_count": 11,
   "id": "dffd70c5-bb3a-43ba-b636-335b6838bb21",
   "metadata": {},
   "outputs": [
    {
     "name": "stdout",
     "output_type": "stream",
     "text": [
      "\n",
      "Date range-05 month 2001 year:\n",
      " 2001-05-01    1.607030\n",
      "2001-05-02   -0.749469\n",
      "2001-05-03   -1.038274\n",
      "2001-05-04   -1.505448\n",
      "2001-05-05    0.183529\n",
      "2001-05-06    0.770823\n",
      "2001-05-07    1.832721\n",
      "2001-05-08    0.587743\n",
      "2001-05-09   -1.330278\n",
      "2001-05-10    0.674667\n",
      "2001-05-11    1.775742\n",
      "2001-05-12    0.846404\n",
      "2001-05-13   -2.511646\n",
      "2001-05-14    1.296350\n",
      "2001-05-15    0.081319\n",
      "2001-05-16    0.854594\n",
      "2001-05-17   -1.139855\n",
      "2001-05-18   -0.545029\n",
      "2001-05-19    0.507222\n",
      "2001-05-20   -0.832425\n",
      "2001-05-21   -0.075450\n",
      "2001-05-22   -0.537346\n",
      "2001-05-23    0.844993\n",
      "2001-05-24    0.410824\n",
      "2001-05-25    0.966290\n",
      "2001-05-26   -1.856951\n",
      "2001-05-27    1.186069\n",
      "2001-05-28   -0.452185\n",
      "2001-05-29   -1.427255\n",
      "2001-05-30   -1.114652\n",
      "2001-05-31    0.654751\n",
      "Freq: D, dtype: float64\n"
     ]
    }
   ],
   "source": [
    "print(\"\\nDate range-05 month 2001 year:\\n\", longer_ts[\"2001-05\"])"
   ]
  },
  {
   "cell_type": "code",
   "execution_count": 13,
   "id": "16bdc54f-d3b2-4469-8a11-fd55fff54ae2",
   "metadata": {},
   "outputs": [
    {
     "name": "stdout",
     "output_type": "stream",
     "text": [
      "\n",
      "Date range-first few dates in 2000 year:\n",
      " 2000-01-01   -1.163714\n",
      "2000-01-02   -1.755948\n",
      "2000-01-03   -0.142907\n",
      "2000-01-04    1.277277\n",
      "2000-01-05    0.163675\n",
      "Freq: D, dtype: float64\n"
     ]
    }
   ],
   "source": [
    "print(\"\\nDate range-first few dates in 2000 year:\\n\",longer_ts[\"2000\"].head())"
   ]
  },
  {
   "cell_type": "code",
   "execution_count": 15,
   "id": "31a5c449-1293-46c1-aaee-81ec6aac38ab",
   "metadata": {},
   "outputs": [
    {
     "name": "stdout",
     "output_type": "stream",
     "text": [
      "\n",
      "Date range-first 15 dates in 02 month 2001 year:\n",
      " 2000-02-01    0.517432\n",
      "2000-02-02   -1.116286\n",
      "2000-02-03    1.536798\n",
      "2000-02-04   -2.307463\n",
      "2000-02-05    0.449733\n",
      "2000-02-06   -0.286813\n",
      "2000-02-07   -1.008064\n",
      "2000-02-08    0.844012\n",
      "2000-02-09   -0.404144\n",
      "2000-02-10    2.093063\n",
      "2000-02-11   -1.140743\n",
      "2000-02-12   -0.279509\n",
      "2000-02-13    0.898524\n",
      "2000-02-14   -0.974560\n",
      "2000-02-15   -0.510031\n",
      "Freq: D, dtype: float64\n"
     ]
    }
   ],
   "source": [
    "print(\"\\nDate range-first 15 dates in 02 month 2001 year:\\n\",longer_ts[\"2000-02\"].head(15))"
   ]
  },
  {
   "cell_type": "code",
   "execution_count": 17,
   "id": "75b1a0da-b888-4fe1-b805-5c9a20d965ec",
   "metadata": {},
   "outputs": [
    {
     "name": "stdout",
     "output_type": "stream",
     "text": [
      "\n",
      "Date range-rom 26-9-2001:\n",
      " 2000-09-26   -0.455397\n",
      "2000-09-27    0.726644\n",
      "2000-09-28    1.019735\n",
      "2000-09-29   -0.008845\n",
      "2000-09-30   -0.177165\n",
      "                ...   \n",
      "2002-09-22   -0.127145\n",
      "2002-09-23   -1.908696\n",
      "2002-09-24   -0.423721\n",
      "2002-09-25    2.285054\n",
      "2002-09-26    0.423214\n",
      "Freq: D, Length: 731, dtype: float64\n"
     ]
    }
   ],
   "source": [
    "print(\"\\nDate range-rom 26-9-2001:\\n\",longer_ts[datetime(2000,9,26):])"
   ]
  },
  {
   "cell_type": "code",
   "execution_count": 19,
   "id": "1541d095-5d40-4119-ab07-0649f4bea8b1",
   "metadata": {},
   "outputs": [
    {
     "name": "stdout",
     "output_type": "stream",
     "text": [
      "\n",
      "Date range from 26-9-2001 to 25-9-2002:\n",
      " 2001-09-26   -0.260263\n",
      "2001-09-27   -0.854410\n",
      "2001-09-28    0.896144\n",
      "2001-09-29    2.162668\n",
      "2001-09-30    0.054816\n",
      "                ...   \n",
      "2002-09-21   -0.785402\n",
      "2002-09-22   -0.127145\n",
      "2002-09-23   -1.908696\n",
      "2002-09-24   -0.423721\n",
      "2002-09-25    2.285054\n",
      "Freq: D, Length: 365, dtype: float64\n"
     ]
    }
   ],
   "source": [
    "print(\"\\nDate range from 26-9-2001 to 25-9-2002:\\n\",longer_ts[datetime(2001,9,26):datetime(2002,9,25)])"
   ]
  },
  {
   "cell_type": "code",
   "execution_count": null,
   "id": "6b1dcc54-4e86-4dc5-907b-5fde74a8dee8",
   "metadata": {},
   "outputs": [],
   "source": []
  }
 ],
 "metadata": {
  "kernelspec": {
   "display_name": "Python [conda env:base] *",
   "language": "python",
   "name": "conda-base-py"
  },
  "language_info": {
   "codemirror_mode": {
    "name": "ipython",
    "version": 3
   },
   "file_extension": ".py",
   "mimetype": "text/x-python",
   "name": "python",
   "nbconvert_exporter": "python",
   "pygments_lexer": "ipython3",
   "version": "3.12.7"
  }
 },
 "nbformat": 4,
 "nbformat_minor": 5
}
