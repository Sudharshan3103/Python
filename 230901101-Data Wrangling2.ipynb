{
 "cells": [
  {
   "cell_type": "code",
   "execution_count": 1,
   "id": "c2189d70-e380-45e5-bdb5-c3ff3403161f",
   "metadata": {},
   "outputs": [
    {
     "name": "stdout",
     "output_type": "stream",
     "text": [
      "Original DataFrame:\n",
      "    name  age gender marks\n",
      "0   sai   20      M    90\n",
      "1  yuva   18      F    76\n",
      "2   poo   19      M   NaN\n",
      "3  savi   20      F    74\n",
      "4  ruba   17      F    65\n",
      "5   raj   19      M   NaN\n",
      "6  ravi   21      M    71\n",
      "\n",
      " Replacing NaN,with average marks:\n",
      "    name  age gender  marks\n",
      "0   sai   20      M   90.0\n",
      "1  yuva   18      F   76.0\n",
      "2   poo   19      M   90.0\n",
      "3  savi   20      F   74.0\n",
      "4  ruba   17      F   65.0\n",
      "5   raj   19      M   90.0\n",
      "6  ravi   21      M   71.0\n",
      "\n",
      " Replacing NaN,with average marks:\n",
      "    name  age gender  marks\n",
      "0   sai   20      M   90.0\n",
      "1  yuva   18      F   76.0\n",
      "2   poo   19      M   90.0\n",
      "3  savi   20      F   74.0\n",
      "4  ruba   17      F   65.0\n",
      "5   raj   19      M   90.0\n",
      "6  ravi   21      M   71.0\n",
      "\n",
      " Replacing NaN,with average marks:\n",
      "    name  age gender  marks\n",
      "0   sai   20      M   90.0\n",
      "1  yuva   18      F   76.0\n",
      "2   poo   19      M   90.0\n",
      "3  savi   20      F   74.0\n",
      "4  ruba   17      F   65.0\n",
      "5   raj   19      M   90.0\n",
      "6  ravi   21      M   71.0\n",
      "\n",
      " Replacing NaN,with average marks:\n",
      "    name  age gender  marks\n",
      "0   sai   20      M   90.0\n",
      "1  yuva   18      F   76.0\n",
      "2   poo   19      M   90.0\n",
      "3  savi   20      F   74.0\n",
      "4  ruba   17      F   65.0\n",
      "5   raj   19      M   90.0\n",
      "6  ravi   21      M   71.0\n",
      "\n",
      " Replacing NaN,with average marks:\n",
      "    name  age gender  marks\n",
      "0   sai   20      M   90.0\n",
      "1  yuva   18      F   76.0\n",
      "2   poo   19      M   90.0\n",
      "3  savi   20      F   74.0\n",
      "4  ruba   17      F   65.0\n",
      "5   raj   19      M   90.0\n",
      "6  ravi   21      M   71.0\n",
      "\n",
      " Replacing NaN,with average marks:\n",
      "    name  age gender  marks\n",
      "0   sai   20      M   90.0\n",
      "1  yuva   18      F   76.0\n",
      "2   poo   19      M   90.0\n",
      "3  savi   20      F   74.0\n",
      "4  ruba   17      F   65.0\n",
      "5   raj   19      M   90.0\n",
      "6  ravi   21      M   71.0\n",
      "\n",
      " Replacing NaN,with average marks:\n",
      "    name  age gender  marks\n",
      "0   sai   20      M   90.0\n",
      "1  yuva   18      F   76.0\n",
      "2   poo   19      M   90.0\n",
      "3  savi   20      F   74.0\n",
      "4  ruba   17      F   65.0\n",
      "5   raj   19      M   90.0\n",
      "6  ravi   21      M   71.0\n"
     ]
    },
    {
     "name": "stderr",
     "output_type": "stream",
     "text": [
      "C:\\Users\\Dell\\AppData\\Local\\Temp\\ipykernel_9232\\2938571895.py:12: FutureWarning: Downcasting behavior in `replace` is deprecated and will be removed in a future version. To retain the old behavior, explicitly call `result.infer_objects(copy=False)`. To opt-in to the future behavior, set `pd.set_option('future.no_silent_downcasting', True)`\n",
      "  df=df.replace(to_replace='NaN',value=avg)\n"
     ]
    }
   ],
   "source": [
    "import pandas as pd\n",
    "#Asssign data\n",
    "data={'name':['sai','yuva','poo','savi','ruba','raj','ravi'],'age':[20,18,19,20,17,19,21],'gender':['M','F','M','F','F','M','M'],'marks':[90,76,'NaN',74,65,'NaN',71]}\n",
    "df=pd.DataFrame(data)\n",
    "print(\"Original DataFrame:\\n\",df)\n",
    "c=avg=0\n",
    "for ele in df['marks']:\n",
    "    if str(ele).isnumeric():\n",
    "        c+=1\n",
    "        avg+=ele\n",
    "    avg/=c\n",
    "    df=df.replace(to_replace='NaN',value=avg)\n",
    "    print(\"\\n Replacing NaN,with average marks:\\n\",df)"
   ]
  },
  {
   "cell_type": "code",
   "execution_count": 3,
   "id": "ceb60cf5-70fc-40b7-b69a-2ef85193b208",
   "metadata": {},
   "outputs": [
    {
     "name": "stdout",
     "output_type": "stream",
     "text": [
      "\n",
      " filtering and dropping function:\n",
      "    name gender  marks\n",
      "0   sai      M   90.0\n",
      "1  yuva      F   76.0\n",
      "2   poo      M   90.0\n",
      "5   raj      M   90.0\n"
     ]
    }
   ],
   "source": [
    "#filter top scoring students\n",
    "df=df[df['marks']>=75]\n",
    "#remove age row\n",
    "df=df.drop(['age'],axis=1)\n",
    "#display data\n",
    "print(\"\\n filtering and dropping function:\\n\",df)"
   ]
  },
  {
   "cell_type": "code",
   "execution_count": 5,
   "id": "42955126-2b56-46b8-968d-3054fe94e2ac",
   "metadata": {},
   "outputs": [
    {
     "name": "stdout",
     "output_type": "stream",
     "text": [
      "\n",
      " original DataFrame:\n",
      "    name subject_id  marks_scored\n",
      "1   sai       sub1            98\n",
      "2   raj       sub2            90\n",
      "3  yuva       sub3            92\n",
      "4   ram       sub4            85\n",
      "5   sam       sub5            89\n",
      "\n",
      " original DataFrame:\n",
      "     name subject_id  marks_scored\n",
      "1  sanju       sub2            73\n",
      "2   ravi       sub4            80\n",
      "3  shree       sub3            95\n",
      "4   niki       sub6            98\n",
      "5  rahul       sub5            79\n"
     ]
    }
   ],
   "source": [
    "one=pd.DataFrame({'name':['sai','raj','yuva','ram','sam'],'subject_id':['sub1','sub2','sub3','sub4','sub5'],'marks_scored':[98,90,92,85,89]},index=[1,2,3,4,5])\n",
    "two=pd.DataFrame({'name':['sanju','ravi','shree','niki','rahul'],'subject_id':['sub2','sub4','sub3','sub6','sub5'],'marks_scored':[73,80,95,98,79]},index=[1,2,3,4,5])\n",
    "print(\"\\n original DataFrame:\\n\",one)\n",
    "print(\"\\n original DataFrame:\\n\",two)"
   ]
  },
  {
   "cell_type": "code",
   "execution_count": null,
   "id": "dbb81a4d-6084-406d-8570-5754eb4709ec",
   "metadata": {},
   "outputs": [],
   "source": []
  }
 ],
 "metadata": {
  "kernelspec": {
   "display_name": "Python [conda env:base] *",
   "language": "python",
   "name": "conda-base-py"
  },
  "language_info": {
   "codemirror_mode": {
    "name": "ipython",
    "version": 3
   },
   "file_extension": ".py",
   "mimetype": "text/x-python",
   "name": "python",
   "nbconvert_exporter": "python",
   "pygments_lexer": "ipython3",
   "version": "3.12.7"
  }
 },
 "nbformat": 4,
 "nbformat_minor": 5
}
