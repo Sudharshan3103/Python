{
 "cells": [
  {
   "cell_type": "code",
   "execution_count": 5,
   "id": "fc0efad2-c515-401f-bc4a-f0775d99d218",
   "metadata": {
    "scrolled": true
   },
   "outputs": [
    {
     "name": "stdout",
     "output_type": "stream",
     "text": [
      "Series from array\n",
      "0    s\n",
      "1    a\n",
      "2    i\n",
      "3    r\n",
      "4    b\n",
      "5    l\n",
      "6    i\n",
      "dtype: object\n"
     ]
    }
   ],
   "source": [
    "import pandas as pd\n",
    "import numpy as np\n",
    "arr=np.array(['s','a','i','r','b','l','i'])\n",
    "a=pd.Series(arr)\n",
    "print(\"Series from array\")\n",
    "print(a)"
   ]
  },
  {
   "cell_type": "code",
   "execution_count": 15,
   "id": "9e2e0308-8574-44d3-8f5e-45572e7c32aa",
   "metadata": {},
   "outputs": [
    {
     "name": "stdout",
     "output_type": "stream",
     "text": [
      "\n",
      "Series from dictionary:\n",
      "\n",
      "a    0\n",
      "b    2\n",
      "c    3\n",
      "dtype: int64\n"
     ]
    }
   ],
   "source": [
    "arr={'a':0,'b':2,'c':3}\n",
    "b=pd.Series(arr)\n",
    "print(\"\\nSeries from dictionary:\\n\")\n",
    "print(b)"
   ]
  },
  {
   "cell_type": "code",
   "execution_count": 13,
   "id": "e0748d1b-daec-41e0-a7e2-14d32c8b7693",
   "metadata": {},
   "outputs": [
    {
     "name": "stdout",
     "output_type": "stream",
     "text": [
      "\n",
      "Series using Scalar\n",
      "\n",
      "0    4\n",
      "1    4\n",
      "2    4\n",
      "3    4\n",
      "dtype: int64\n"
     ]
    }
   ],
   "source": [
    "x=pd.Series(4,index=[0,1,2,3])\n",
    "print(\"\\nSeries using Scalar\\n\")\n",
    "print(x)"
   ]
  },
  {
   "cell_type": "code",
   "execution_count": 11,
   "id": "5b0fb5d7-cd1e-4fbe-8153-abbb6aa9ff72",
   "metadata": {},
   "outputs": [
    {
     "name": "stdout",
     "output_type": "stream",
     "text": [
      "\n",
      " Series:\n",
      " 0    s\n",
      "1    a\n",
      "2    i\n",
      "3    r\n",
      "4    b\n",
      "5    l\n",
      "6    i\n",
      "dtype: object\n",
      "\n",
      " Index:\n",
      " RangeIndex(start=0, stop=7, step=1)\n",
      "\n",
      " Values:\n",
      " ['s' 'a' 'i' 'r' 'b' 'l' 'i']\n",
      "\n",
      " Shape:\n",
      " (7,)\n",
      "\n",
      " Dimension:\n",
      " 1\n",
      "\n",
      " Size:\n",
      " 7\n"
     ]
    }
   ],
   "source": [
    "print(\"\\n Series:\\n\",a)\n",
    "print(\"\\n Index:\\n\",a.index)\n",
    "print(\"\\n Values:\\n\",a.values)\n",
    "print(\"\\n Shape:\\n\",a.shape)\n",
    "print(\"\\n Dimension:\\n\",a.ndim)\n",
    "print(\"\\n Size:\\n\",a.size)"
   ]
  },
  {
   "cell_type": "code",
   "execution_count": null,
   "id": "6e6997fd-e5b2-4ece-b549-906a5ee72e4e",
   "metadata": {},
   "outputs": [],
   "source": []
  }
 ],
 "metadata": {
  "kernelspec": {
   "display_name": "Python [conda env:base] *",
   "language": "python",
   "name": "conda-base-py"
  },
  "language_info": {
   "codemirror_mode": {
    "name": "ipython",
    "version": 3
   },
   "file_extension": ".py",
   "mimetype": "text/x-python",
   "name": "python",
   "nbconvert_exporter": "python",
   "pygments_lexer": "ipython3",
   "version": "3.12.7"
  }
 },
 "nbformat": 4,
 "nbformat_minor": 5
}
