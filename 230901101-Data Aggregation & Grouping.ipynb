{
 "cells": [
  {
   "cell_type": "code",
   "execution_count": 1,
   "id": "a82ad942-a0e0-4d79-ac8b-7223d7f75e3d",
   "metadata": {},
   "outputs": [
    {
     "name": "stdout",
     "output_type": "stream",
     "text": [
      "\n",
      " original DataFrame:\n",
      "       name categories  value  score\n",
      "0    alice          A      2     88\n",
      "1      bob          B      1     82\n",
      "2  charlie          C      3     97\n",
      "3    alice          A      4     63\n",
      "4      bob          B      4     79\n",
      "5  charlie          C      1     87\n",
      "\n",
      " Group and aggregation with one column:\n",
      "       name  value\n",
      "0    alice      6\n",
      "1      bob      5\n",
      "2  charlie      4\n"
     ]
    }
   ],
   "source": [
    "import numpy as np\n",
    "import pandas as pd\n",
    "df=pd.DataFrame({'name':['alice','bob','charlie','alice','bob','charlie'],'categories':['A','B','C','A','B','C'],'value':np.random.randint(1,5,size=6),'score':np.random.randint(60,100,size=6)})\n",
    "print(\"\\n original DataFrame:\\n\",df)\n",
    "df1=df.groupby(('name'),as_index=False)['value'].sum()\n",
    "print(\"\\n Group and aggregation with one column:\\n\",df1)"
   ]
  },
  {
   "cell_type": "code",
   "execution_count": 3,
   "id": "fd36fdf8-92fc-4fa7-8d72-fe93df302103",
   "metadata": {},
   "outputs": [
    {
     "name": "stdout",
     "output_type": "stream",
     "text": [
      "\n",
      " Group and aggregation with two column sum:\n",
      "       name  value  score\n",
      "0    alice      6    151\n",
      "1      bob      5    161\n",
      "2  charlie      4    184\n"
     ]
    }
   ],
   "source": [
    "df2=df.groupby(('name'),as_index=False)[['value','score']].sum()\n",
    "print(\"\\n Group and aggregation with two column sum:\\n\",df2)"
   ]
  },
  {
   "cell_type": "code",
   "execution_count": 5,
   "id": "63eaa7d8-43d2-4afc-955f-2dda79b9c8df",
   "metadata": {},
   "outputs": [
    {
     "name": "stdout",
     "output_type": "stream",
     "text": [
      "\n",
      " Group and aggregation with two column sum:\n",
      "       name  value\n",
      "0    alice      6\n",
      "1      bob      5\n",
      "2  charlie      4\n"
     ]
    }
   ],
   "source": [
    "df3=df.groupby(('name'),as_index=False)['value'].agg('sum')\n",
    "print(\"\\n Group and aggregation with two column sum:\\n\",df3) "
   ]
  },
  {
   "cell_type": "code",
   "execution_count": 7,
   "id": "cd422953-5688-4b7d-8cbf-1da03ce6a7ca",
   "metadata": {},
   "outputs": [
    {
     "name": "stdout",
     "output_type": "stream",
     "text": [
      "\n",
      " Group by name multiple aggregation:\n",
      "         value              score      \n",
      "          sum mean min max   sum  mean\n",
      "name                                  \n",
      "alice       6  3.0   2   4   151  75.5\n",
      "bob         5  2.5   1   4   161  80.5\n",
      "charlie     4  2.0   1   3   184  92.0\n"
     ]
    }
   ],
   "source": [
    "df4=df.groupby('name').agg({'value':['sum','mean','min','max'],'score':['sum','mean']})\n",
    "print(\"\\n Group by name multiple aggregation:\\n\",df4)"
   ]
  },
  {
   "cell_type": "code",
   "execution_count": 9,
   "id": "ac454b4e-75bd-4d05-8580-154865f238f8",
   "metadata": {},
   "outputs": [
    {
     "name": "stdout",
     "output_type": "stream",
     "text": [
      "\n",
      " Group and count:\n",
      "       name  value\n",
      "0    alice      2\n",
      "1      bob      2\n",
      "2  charlie      2\n"
     ]
    }
   ],
   "source": [
    "df5=df.groupby(('name'),as_index=False)['value'].count()\n",
    "print(\"\\n Group and count:\\n\",df5)"
   ]
  },
  {
   "cell_type": "code",
   "execution_count": 11,
   "id": "e1716711-9b9d-45be-865d-f12eeb6c0a97",
   "metadata": {},
   "outputs": [
    {
     "name": "stdout",
     "output_type": "stream",
     "text": [
      "\n",
      " Group and count:\n",
      "          categories  value  score\n",
      "name                             \n",
      "alice             2      2      2\n",
      "bob               2      2      2\n",
      "charlie           2      2      2\n"
     ]
    }
   ],
   "source": [
    "df6=df.groupby(('name')).count()\n",
    "print(\"\\n Group and count:\\n\",df6)"
   ]
  },
  {
   "cell_type": "code",
   "execution_count": 13,
   "id": "1127ccb8-5cd7-4d11-bb47-6c2cce0ebd02",
   "metadata": {},
   "outputs": [
    {
     "name": "stdout",
     "output_type": "stream",
     "text": [
      "\n",
      " Group and display first:\n",
      "       name  value\n",
      "0    alice      2\n",
      "1      bob      1\n",
      "2  charlie      3\n"
     ]
    }
   ],
   "source": [
    "df7=df.groupby(('name'),as_index=False)['value'].first()\n",
    "print(\"\\n Group and display first:\\n\",df7)"
   ]
  },
  {
   "cell_type": "code",
   "execution_count": 15,
   "id": "ac7cec16-36ff-47f8-8384-0e4f174f7809",
   "metadata": {},
   "outputs": [
    {
     "name": "stdout",
     "output_type": "stream",
     "text": [
      "\n",
      " Group and count:\n",
      "         categories  value  score\n",
      "name                            \n",
      "alice            A      2     88\n",
      "bob              B      1     82\n",
      "charlie          C      3     97\n"
     ]
    }
   ],
   "source": [
    "df8=df.groupby(('name')).first()\n",
    "print(\"\\n Group and count:\\n\",df8)"
   ]
  },
  {
   "cell_type": "code",
   "execution_count": 17,
   "id": "c27ecdd1-3dbb-4276-b074-91986d7b8328",
   "metadata": {},
   "outputs": [
    {
     "name": "stdout",
     "output_type": "stream",
     "text": [
      "\n",
      " Group and display from last:\n",
      "       name  value\n",
      "0    alice      4\n",
      "1      bob      4\n",
      "2  charlie      1\n"
     ]
    }
   ],
   "source": [
    "df9=df.groupby(('name'),as_index=False)['value'].last()\n",
    "print(\"\\n Group and display from last:\\n\",df9)"
   ]
  },
  {
   "cell_type": "code",
   "execution_count": 19,
   "id": "e59b0826-3705-45f4-ac09-b8c969beeb67",
   "metadata": {},
   "outputs": [
    {
     "name": "stdout",
     "output_type": "stream",
     "text": [
      "\n",
      " Group and display from last:\n",
      "         categories  value  score\n",
      "name                            \n",
      "alice            A      4     63\n",
      "bob              B      4     79\n",
      "charlie          C      1     87\n"
     ]
    }
   ],
   "source": [
    "df10=df.groupby(('name')).last()\n",
    "print(\"\\n Group and display from last:\\n\",df10)"
   ]
  },
  {
   "cell_type": "code",
   "execution_count": 21,
   "id": "09155f1d-68f5-433e-8092-5d411c039555",
   "metadata": {},
   "outputs": [
    {
     "name": "stdout",
     "output_type": "stream",
     "text": [
      "\n",
      " Group and display size:\n",
      "       name  size\n",
      "0    alice     2\n",
      "1      bob     2\n",
      "2  charlie     2\n"
     ]
    }
   ],
   "source": [
    "df11=df.groupby(('name'),as_index=False)['value'].size()\n",
    "print(\"\\n Group and display size:\\n\",df11)"
   ]
  },
  {
   "cell_type": "code",
   "execution_count": 23,
   "id": "b92d2909-2697-4ccf-bff7-4e7987fe49bc",
   "metadata": {},
   "outputs": [
    {
     "name": "stdout",
     "output_type": "stream",
     "text": [
      "\n",
      " Group and display size:\n",
      " name\n",
      "alice      2\n",
      "bob        2\n",
      "charlie    2\n",
      "dtype: int64\n"
     ]
    }
   ],
   "source": [
    "df12=df.groupby(('name')).size()\n",
    "print(\"\\n Group and display size:\\n\",df12)"
   ]
  },
  {
   "cell_type": "code",
   "execution_count": null,
   "id": "9f9896a2-60f5-479f-88d2-244a94b407a0",
   "metadata": {},
   "outputs": [],
   "source": []
  }
 ],
 "metadata": {
  "kernelspec": {
   "display_name": "Python [conda env:base] *",
   "language": "python",
   "name": "conda-base-py"
  },
  "language_info": {
   "codemirror_mode": {
    "name": "ipython",
    "version": 3
   },
   "file_extension": ".py",
   "mimetype": "text/x-python",
   "name": "python",
   "nbconvert_exporter": "python",
   "pygments_lexer": "ipython3",
   "version": "3.12.7"
  }
 },
 "nbformat": 4,
 "nbformat_minor": 5
}
