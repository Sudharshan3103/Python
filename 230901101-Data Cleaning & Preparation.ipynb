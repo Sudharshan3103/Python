{
 "cells": [
  {
   "cell_type": "code",
   "execution_count": 1,
   "id": "7b6ed591-a55d-437b-99fb-55d2912e8982",
   "metadata": {},
   "outputs": [
    {
     "name": "stdout",
     "output_type": "stream",
     "text": [
      "Original DataFrame with NaN\n",
      "         one       two     three\n",
      "a  2.943245  0.493692  0.956790\n",
      "b       NaN       NaN       NaN\n",
      "c -0.286803  1.374660  1.069171\n",
      "d -0.654881  1.211635  1.199854\n",
      "e       NaN       NaN       NaN\n",
      "f -0.136040 -1.573820  0.885618\n",
      "\n",
      "\n",
      "Dropped DataFrame\n",
      "         one       two     three\n",
      "a  2.943245  0.493692  0.956790\n",
      "c -0.286803  1.374660  1.069171\n",
      "d -0.654881  1.211635  1.199854\n",
      "f -0.136040 -1.573820  0.885618\n",
      "\n",
      "\n"
     ]
    }
   ],
   "source": [
    "import pandas as pd\n",
    "import numpy as np\n",
    "df=pd.DataFrame(np.random.randn(4,3),index=['a','c','d','f'],columns=['one','two','three'])\n",
    "df=df.reindex(['a','b','c','d','e','f'])\n",
    "print(\"Original DataFrame with NaN\\n\",df)\n",
    "print(\"\\n\")\n",
    "print(\"Dropped DataFrame\\n\",df.dropna())\n",
    "print(\"\\n\")"
   ]
  },
  {
   "cell_type": "code",
   "execution_count": 3,
   "id": "7d2510d0-404a-4441-bb50-7a2c653f0584",
   "metadata": {},
   "outputs": [
    {
     "name": "stdout",
     "output_type": "stream",
     "text": [
      "Original DataFrame:\n",
      "         one       two     three\n",
      "a  0.884874  0.315579 -1.275839\n",
      "b       NaN       NaN       NaN\n",
      "c  0.430822 -1.347433  0.299466\n",
      "\n",
      "\n",
      "NaN replaced with '0'\n",
      "         one       two     three\n",
      "a  0.884874  0.315579 -1.275839\n",
      "b  0.000000  0.000000  0.000000\n",
      "c  0.430822 -1.347433  0.299466\n",
      "\n",
      "\n"
     ]
    }
   ],
   "source": [
    "import pandas as pd\n",
    "import numpy as np\n",
    "df=pd.DataFrame(np.random.randn(4,3),index=['a','c','d','f'],columns=['one','two','three'])\n",
    "df=df.reindex(['a','b','c'])\n",
    "print(\"Original DataFrame:\\n\",df)\n",
    "print(\"\\n\")\n",
    "print(\"NaN replaced with '0'\\n\",df.fillna(0))\n",
    "print(\"\\n\")"
   ]
  },
  {
   "cell_type": "code",
   "execution_count": 5,
   "id": "970e5c84-4354-42e1-b522-2d923d5e2c5f",
   "metadata": {},
   "outputs": [
    {
     "name": "stdout",
     "output_type": "stream",
     "text": [
      "Original DataFrame:\n",
      "    one  two\n",
      "0   10   60\n",
      "1   20   70\n",
      "2   30   80\n",
      "3   40    0\n",
      "4   50   10\n",
      "\n",
      "DataFrame with replaced values:\n",
      "\n",
      "   one  two\n",
      "0    5   60\n",
      "1   20   70\n",
      "2   30    3\n",
      "3   40    0\n",
      "4   50    5\n"
     ]
    }
   ],
   "source": [
    "df=pd.DataFrame({'one':[10,20,30,40,50],'two':[60,70,80,0,10]})\n",
    "print(\"Original DataFrame:\\n\",df)\n",
    "print(\"\\nDataFrame with replaced values:\\n\")\n",
    "print(df.replace({10:5,80:3}))"
   ]
  },
  {
   "cell_type": "code",
   "execution_count": 7,
   "id": "6825d5ca-cca3-4380-b20d-63fdb94a34af",
   "metadata": {},
   "outputs": [
    {
     "name": "stdout",
     "output_type": "stream",
     "text": [
      "Original DataFrame:\n",
      "         one       two     three\n",
      "a -0.672435  0.663337  1.151477\n",
      "b       NaN       NaN       NaN\n",
      "c -1.445369  0.117182  0.303088\n",
      "d -0.033127  0.705355  1.570978\n",
      "e       NaN       NaN       NaN\n",
      "f  0.315335 -1.189353 -1.788464\n",
      "\n",
      "NaN with true fill:\n",
      "\n",
      "a    False\n",
      "b     True\n",
      "c    False\n",
      "d    False\n",
      "e     True\n",
      "f    False\n",
      "Name: one, dtype: bool\n"
     ]
    }
   ],
   "source": [
    "df=pd.DataFrame(np.random.randn(4,3),index=['a','c','d','f'],columns=['one','two','three'])\n",
    "df=df.reindex(['a','b','c','d','e','f'])\n",
    "print(\"Original DataFrame:\\n\",df)\n",
    "print(\"\\nNaN with true fill:\\n\")\n",
    "print(df['one'].isnull())"
   ]
  },
  {
   "cell_type": "code",
   "execution_count": 13,
   "id": "0f1c0d4a-74b6-430d-b92d-40f575e3bb99",
   "metadata": {},
   "outputs": [
    {
     "name": "stdout",
     "output_type": "stream",
     "text": [
      "\n",
      " NaN filled with background values:\n",
      "\n",
      "        one       two     three\n",
      "a -0.672435  0.663337  1.151477\n",
      "b -1.445369  0.117182  0.303088\n",
      "c -1.445369  0.117182  0.303088\n",
      "d -0.033127  0.705355  1.570978\n",
      "e  0.315335 -1.189353 -1.788464\n",
      "f  0.315335 -1.189353 -1.788464\n"
     ]
    },
    {
     "name": "stderr",
     "output_type": "stream",
     "text": [
      "C:\\Users\\Dell\\AppData\\Local\\Temp\\ipykernel_17352\\3566172659.py:2: FutureWarning: DataFrame.fillna with 'method' is deprecated and will raise in a future version. Use obj.ffill() or obj.bfill() instead.\n",
      "  print(df.fillna(method='bfill'))\n"
     ]
    }
   ],
   "source": [
    "print(\"\\n NaN filled with background values:\\n\")\n",
    "print(df.fillna(method='bfill'))"
   ]
  },
  {
   "cell_type": "code",
   "execution_count": 15,
   "id": "02f0dddc-cd98-4dfd-998e-adf7deafabc6",
   "metadata": {},
   "outputs": [
    {
     "name": "stdout",
     "output_type": "stream",
     "text": [
      "        one       two     three\n",
      "a -0.672435  0.663337  1.151477\n",
      "b -1.445369  0.117182  0.303088\n",
      "c -1.445369  0.117182  0.303088\n",
      "d -0.033127  0.705355  1.570978\n",
      "e  0.315335 -1.189353 -1.788464\n",
      "f  0.315335 -1.189353 -1.788464\n",
      "        one       two     three\n",
      "a -0.672435  0.663337  1.151477\n",
      "b -0.672435  0.663337  1.151477\n",
      "c -1.445369  0.117182  0.303088\n",
      "d -0.033127  0.705355  1.570978\n",
      "e -0.033127  0.705355  1.570978\n",
      "f  0.315335 -1.189353 -1.788464\n"
     ]
    }
   ],
   "source": [
    "print(df.bfill())\n",
    "print(df.ffill())"
   ]
  }
 ],
 "metadata": {
  "kernelspec": {
   "display_name": "Python [conda env:base] *",
   "language": "python",
   "name": "conda-base-py"
  },
  "language_info": {
   "codemirror_mode": {
    "name": "ipython",
    "version": 3
   },
   "file_extension": ".py",
   "mimetype": "text/x-python",
   "name": "python",
   "nbconvert_exporter": "python",
   "pygments_lexer": "ipython3",
   "version": "3.12.7"
  }
 },
 "nbformat": 4,
 "nbformat_minor": 5
}
